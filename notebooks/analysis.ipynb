{
 "cells": [
  {
   "cell_type": "code",
   "execution_count": 1,
   "metadata": {
    "ExecuteTime": {
     "end_time": "2023-05-22T20:14:03.403006Z",
     "start_time": "2023-05-22T20:14:02.940311Z"
    },
    "collapsed": true
   },
   "outputs": [],
   "source": [
    "import pandas as pd\n",
    "import numpy as np\n",
    "import matplotlib.pyplot as plt\n",
    "import os\n",
    "import re\n",
    "import glob\n",
    "from tqdm import tqdm\n",
    "import platform"
   ]
  },
  {
   "cell_type": "code",
   "execution_count": 2,
   "metadata": {
    "ExecuteTime": {
     "end_time": "2023-05-22T20:14:03.404686Z",
     "start_time": "2023-05-22T20:14:03.403513Z"
    }
   },
   "outputs": [],
   "source": [
    "def check_os():\n",
    "    os = platform.system()\n",
    "\n",
    "    if os == 'Darwin':\n",
    "        return \"MacOS\"\n",
    "    elif os == 'Linux':\n",
    "        return \"Linux\"\n",
    "    else:\n",
    "        return \"Unknown OS\""
   ]
  },
  {
   "cell_type": "code",
   "execution_count": 3,
   "metadata": {
    "ExecuteTime": {
     "end_time": "2023-05-22T20:14:03.406630Z",
     "start_time": "2023-05-22T20:14:03.405212Z"
    }
   },
   "outputs": [],
   "source": [
    "operating_system = check_os()\n",
    "    \n",
    "if operating_system == \"MacOS\":\n",
    "    root_path = \"/Users/johnny/Projects/\"\n",
    "elif operating_system == \"Linux\":\n",
    "    root_path = \"/home/johnny/Projects/\""
   ]
  },
  {
   "cell_type": "code",
   "execution_count": 4,
   "metadata": {
    "ExecuteTime": {
     "end_time": "2023-05-22T20:14:03.418781Z",
     "start_time": "2023-05-22T20:14:03.407118Z"
    },
    "collapsed": false
   },
   "outputs": [],
   "source": [
    "data = os.getcwd()\n",
    "ANNOTATIONS_PATH = root_path + \"datasets/harbor-synthetic/annotations\"\n",
    "LTD_DATASET_PATH = root_path + \"datasets/harbor-synthetic/LTD_Dataset/LTD_Dataset/Image_Dataset_25fps\""
   ]
  },
  {
   "cell_type": "code",
   "execution_count": 5,
   "metadata": {
    "ExecuteTime": {
     "end_time": "2023-05-22T20:14:03.418963Z",
     "start_time": "2023-05-22T20:14:03.410445Z"
    }
   },
   "outputs": [],
   "source": [
    "def get_top_level_folders(base_path):\n",
    "    folder_list = []\n",
    "\n",
    "    for entry in os.listdir(base_path):\n",
    "        entry_path = os.path.join(base_path, entry)\n",
    "        if os.path.isdir(entry_path):\n",
    "            entry_path = entry_path.replace(base_path + \"/\", \"\")\n",
    "            folder_list.append(entry_path)\n",
    "\n",
    "    # Sort the list 20200514, 20200515, ...\n",
    "    folder_list.sort(key=lambda f: int(re.sub(\"\\D\", \"\", f)))\n",
    "    return folder_list\n",
    "\n",
    "\n",
    "def get_all_files_folder(path, type_file=\"jpg\"):\n",
    "    files = glob.glob(path + f\"/*.{type_file}\")\n",
    "    sorted_files = sorted(files, key=lambda f: int(re.sub(\"\\D\", \"\", f)))\n",
    "    return sorted_files"
   ]
  },
  {
   "cell_type": "code",
   "execution_count": 6,
   "metadata": {
    "ExecuteTime": {
     "end_time": "2023-05-22T20:14:03.499512Z",
     "start_time": "2023-05-22T20:14:03.412043Z"
    }
   },
   "outputs": [],
   "source": [
    "annotation_folders = get_top_level_folders(ANNOTATIONS_PATH)"
   ]
  },
  {
   "cell_type": "code",
   "execution_count": 7,
   "metadata": {
    "ExecuteTime": {
     "end_time": "2023-05-22T20:14:03.509850Z",
     "start_time": "2023-05-22T20:14:03.501353Z"
    }
   },
   "outputs": [
    {
     "data": {
      "text/plain": [
       "['20200514',\n",
       " '20200515',\n",
       " '20200516',\n",
       " '20200517',\n",
       " '20200518',\n",
       " '20200519',\n",
       " '20200520',\n",
       " '20200521',\n",
       " '20200522',\n",
       " '20200523',\n",
       " '20200524',\n",
       " '20200525',\n",
       " '20200526',\n",
       " '20200527',\n",
       " '20200528',\n",
       " '20200529',\n",
       " '20200530',\n",
       " '20200531',\n",
       " '20200601',\n",
       " '20200602',\n",
       " '20200603',\n",
       " '20200604',\n",
       " '20200605',\n",
       " '20200606',\n",
       " '20200607',\n",
       " '20200608',\n",
       " '20200609',\n",
       " '20200610',\n",
       " '20200611',\n",
       " '20200612',\n",
       " '20200613',\n",
       " '20200614',\n",
       " '20200615',\n",
       " '20200616',\n",
       " '20200617',\n",
       " '20200618',\n",
       " '20200624',\n",
       " '20200625',\n",
       " '20200626',\n",
       " '20200627',\n",
       " '20200628',\n",
       " '20200629',\n",
       " '20200630',\n",
       " '20200701',\n",
       " '20200706',\n",
       " '20200707',\n",
       " '20200708',\n",
       " '20200709',\n",
       " '20200710',\n",
       " '20200711',\n",
       " '20200712',\n",
       " '20200713',\n",
       " '20200810',\n",
       " '20200811',\n",
       " '20200812',\n",
       " '20200813',\n",
       " '20200814',\n",
       " '20200815',\n",
       " '20200816',\n",
       " '20200817',\n",
       " '20200818',\n",
       " '20200819',\n",
       " '20200820',\n",
       " '20200821',\n",
       " '20200822',\n",
       " '20200823',\n",
       " '20200824',\n",
       " '20200825',\n",
       " '20200826',\n",
       " '20200827',\n",
       " '20200828',\n",
       " '20200829',\n",
       " '20200830',\n",
       " '20200831',\n",
       " '20200901',\n",
       " '20210108',\n",
       " '20210109',\n",
       " '20210110',\n",
       " '20210111',\n",
       " '20210112',\n",
       " '20210113',\n",
       " '20210114',\n",
       " '20210115',\n",
       " '20210116',\n",
       " '20210117',\n",
       " '20210118',\n",
       " '20210119',\n",
       " '20210120',\n",
       " '20210121',\n",
       " '20210122',\n",
       " '20210123',\n",
       " '20210124',\n",
       " '20210125',\n",
       " '20210126',\n",
       " '20210127',\n",
       " '20210128',\n",
       " '20210129',\n",
       " '20210130',\n",
       " '20210131',\n",
       " '20210201',\n",
       " '20210202',\n",
       " '20210203',\n",
       " '20210204',\n",
       " '20210205',\n",
       " '20210206',\n",
       " '20210207',\n",
       " '20210208',\n",
       " '20210209',\n",
       " '20210210',\n",
       " '20210211',\n",
       " '20210212',\n",
       " '20210213',\n",
       " '20210214',\n",
       " '20210215',\n",
       " '20210216',\n",
       " '20210217',\n",
       " '20210218',\n",
       " '20210219',\n",
       " '20210220',\n",
       " '20210221',\n",
       " '20210222',\n",
       " '20210223',\n",
       " '20210224',\n",
       " '20210225',\n",
       " '20210226',\n",
       " '20210227',\n",
       " '20210228',\n",
       " '20210301',\n",
       " '20210302',\n",
       " '20210303',\n",
       " '20210304',\n",
       " '20210305',\n",
       " '20210306',\n",
       " '20210307',\n",
       " '20210308',\n",
       " '20210309',\n",
       " '20210310',\n",
       " '20210311',\n",
       " '20210312',\n",
       " '20210313',\n",
       " '20210314',\n",
       " '20210315',\n",
       " '20210316',\n",
       " '20210317',\n",
       " '20210318',\n",
       " '20210319',\n",
       " '20210320',\n",
       " '20210321',\n",
       " '20210322',\n",
       " '20210323',\n",
       " '20210324',\n",
       " '20210325',\n",
       " '20210326',\n",
       " '20210327',\n",
       " '20210328',\n",
       " '20210329',\n",
       " '20210330',\n",
       " '20210331',\n",
       " '20210401',\n",
       " '20210402',\n",
       " '20210403',\n",
       " '20210404',\n",
       " '20210405',\n",
       " '20210406',\n",
       " '20210407',\n",
       " '20210408',\n",
       " '20210409',\n",
       " '20210410',\n",
       " '20210411',\n",
       " '20210412',\n",
       " '20210413',\n",
       " '20210414',\n",
       " '20210415',\n",
       " '20210416',\n",
       " '20210417',\n",
       " '20210418',\n",
       " '20210419',\n",
       " '20210420',\n",
       " '20210421',\n",
       " '20210422',\n",
       " '20210423',\n",
       " '20210424',\n",
       " '20210425',\n",
       " '20210426',\n",
       " '20210427',\n",
       " '20210428',\n",
       " '20210429',\n",
       " '20210430']"
      ]
     },
     "execution_count": 7,
     "metadata": {},
     "output_type": "execute_result"
    }
   ],
   "source": [
    "annotation_folders"
   ]
  },
  {
   "cell_type": "code",
   "execution_count": 8,
   "metadata": {
    "ExecuteTime": {
     "end_time": "2023-05-22T20:14:03.510761Z",
     "start_time": "2023-05-22T20:14:03.509631Z"
    }
   },
   "outputs": [],
   "source": [
    "def associate_frame_with_annotation(annotations_folders, annotations_path, frames_path):\n",
    "    my_dict = dict()\n",
    "    date_folders = annotations_folders\n",
    "\n",
    "    for date_folder in tqdm(date_folders):\n",
    "        path_subfolder = os.path.join(annotations_path, date_folder)\n",
    "        date = os.path.basename(path_subfolder)\n",
    "        date_frame_path = os.path.join(frames_path, date)\n",
    "\n",
    "        clips_annotations = get_top_level_folders(path_subfolder)\n",
    "\n",
    "        for clip_annotation in clips_annotations:\n",
    "            path_clip = os.path.join(path_subfolder, clip_annotation)\n",
    "            path_frame = os.path.join(date_frame_path, clip_annotation)\n",
    "            annotations_txt = get_all_files_folder(path_clip, \"txt\")\n",
    "            frames_jpg = get_all_files_folder(path_frame, \"jpg\")\n",
    "\n",
    "            for idx, annotation_txt in enumerate(annotations_txt):\n",
    "                frame_jpg = frames_jpg[idx]\n",
    "                num_frame = os.path.basename(frame_jpg).split(\".\")[0].split(\"_\")[1]\n",
    "\n",
    "                if date_folder not in my_dict:\n",
    "                    my_dict[date_folder] = {}\n",
    "                if clip_annotation not in my_dict[date_folder]:\n",
    "                    my_dict[date_folder][clip_annotation] = {}\n",
    "                if num_frame not in my_dict[date_folder][clip_annotation]:\n",
    "                    my_dict[date_folder][clip_annotation][num_frame] = {}\n",
    "                \n",
    "                \"removes up to /../../\"\n",
    "                frame_jpg = frame_jpg.replace(data + \"/../../../\", \"\")\n",
    "                annotation_txt = annotation_txt.replace(data + \"/../../../\", \"\")\n",
    "                    \n",
    "                # create temp dict structure {datefolder: {clip_annotation: {frame:num_frame, path_frame: frame_jpg, path_annotation: annotation_txt }}}}}\n",
    "                temp_dict = {\n",
    "                    \"path_frame\": frame_jpg if path_frame else \"\",\n",
    "                    \"path_annotation\": annotation_txt if annotation_txt else \"\",\n",
    "                }\n",
    "                # add new element to dict \n",
    "                my_dict[date_folder][clip_annotation][num_frame] = temp_dict\n",
    "\n",
    "    # Concatenate all DataFrames in the list\n",
    "    return my_dict"
   ]
  },
  {
   "cell_type": "code",
   "execution_count": 9,
   "metadata": {
    "ExecuteTime": {
     "end_time": "2023-05-22T20:14:25.629196Z",
     "start_time": "2023-05-22T20:14:03.510107Z"
    }
   },
   "outputs": [
    {
     "name": "stderr",
     "output_type": "stream",
     "text": [
      "  0%|          | 0/188 [00:00<?, ?it/s]"
     ]
    },
    {
     "name": "stderr",
     "output_type": "stream",
     "text": [
      "100%|██████████| 188/188 [00:21<00:00,  8.88it/s]\n"
     ]
    }
   ],
   "source": [
    "frame_annotation_map = associate_frame_with_annotation(\n",
    "    annotation_folders, ANNOTATIONS_PATH, LTD_DATASET_PATH\n",
    ")"
   ]
  },
  {
   "cell_type": "code",
   "execution_count": 10,
   "metadata": {
    "ExecuteTime": {
     "end_time": "2023-05-22T20:14:28.423866Z",
     "start_time": "2023-05-22T20:14:25.630318Z"
    }
   },
   "outputs": [],
   "source": [
    "# save frame_annotation_map to .json\n",
    "import json\n",
    "with open('frame_annotation_map.json', 'w') as fp:\n",
    "    json.dump(frame_annotation_map, fp)"
   ]
  },
  {
   "cell_type": "code",
   "execution_count": 11,
   "metadata": {},
   "outputs": [
    {
     "data": {
      "text/plain": [
       "'\\nimport os\\ndef add_loitering_txt(root_folder):\\n    for root, dirs, files in os.walk(root_folder):\\n        for filename in files:\\n            if filename.endswith(\".txt\"):\\n                file_path = os.path.join(root, filename)\\n                new_filename = filename.replace(\".txt\", \"_loitering.txt\")\\n                new_file_path = os.path.join(root, new_filename)\\n                os.rename(file_path, new_file_path)\\n\\n# Example usage:\\nfolder_path = \"/Users/johnny/Projects/datasets/harbor-synthetic/annotations\"\\nadd_loitering_txt(folder_path)\\n'"
      ]
     },
     "execution_count": 11,
     "metadata": {},
     "output_type": "execute_result"
    }
   ],
   "source": [
    "# read folder and subfolder from annotations folder and replace txt\n",
    "# 00000009 human 77 109 86 119 1 by 00000009 human 77 109 86 119 1 0\n",
    "\"\"\"\n",
    "import os\n",
    "def add_loitering_txt(root_folder):\n",
    "    for root, dirs, files in os.walk(root_folder):\n",
    "        for filename in files:\n",
    "            if filename.endswith(\".txt\"):\n",
    "                file_path = os.path.join(root, filename)\n",
    "                new_filename = filename.replace(\".txt\", \"_loitering.txt\")\n",
    "                new_file_path = os.path.join(root, new_filename)\n",
    "                os.rename(file_path, new_file_path)\n",
    "\n",
    "# Example usage:\n",
    "folder_path = \"/Users/johnny/Projects/datasets/harbor-synthetic/annotations\"\n",
    "add_loitering_txt(folder_path)\n",
    "\"\"\"\n"
   ]
  }
 ],
 "metadata": {
  "kernelspec": {
   "display_name": "Python 3",
   "language": "python",
   "name": "python3"
  },
  "language_info": {
   "codemirror_mode": {
    "name": "ipython",
    "version": 3
   },
   "file_extension": ".py",
   "mimetype": "text/x-python",
   "name": "python",
   "nbconvert_exporter": "python",
   "pygments_lexer": "ipython3",
   "version": "3.11.5"
  }
 },
 "nbformat": 4,
 "nbformat_minor": 0
}
